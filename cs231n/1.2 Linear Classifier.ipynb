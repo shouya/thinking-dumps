{
 "cells": [
  {
   "cell_type": "code",
   "execution_count": 1,
   "metadata": {
    "collapsed": true,
    "deletable": true,
    "editable": true
   },
   "outputs": [],
   "source": [
    "import numpy as np"
   ]
  },
  {
   "cell_type": "markdown",
   "metadata": {},
   "source": [
    "## Problem and intuition\n",
    "\n",
    "We are now to find a linear map from the representation of an image to the probabilities for each classes. For CIFAR-10, the representation of an image is $32\\times 32\\times 3 = 3072$ real numbers, and we have $10$ classes overall. So we are to find a function:\n",
    "\n",
    "$$H(X) = W X + b$$\n",
    "\n",
    "where $W$ is a matrix of size $10 \\times 3072$ and $b$ is a vector of size $10 \\times 1$.\n",
    "\n",
    "An advantage, compared to the kNN method, is that now we need only store $3072\\times 10 + 10$ numbers instead of the whole training set, and the prediction will go must faster since we don't have to compare the input with all training cases.\n",
    "\n",
    "The bias $b$ can be compacted into $W$ with an additional column, if we add a constant $1$ to all our input data.\n",
    "\n",
    "We will take to model to do our linear classification, SVM and Softmax. They offer different standard to evaluate the prediction."
   ]
  },
  {
   "cell_type": "markdown",
   "metadata": {},
   "source": [
    "## SVM with hinge loss\n",
    "\n",
    "SVM "
   ]
  },
  {
   "cell_type": "code",
   "execution_count": 3,
   "metadata": {
    "collapsed": true
   },
   "outputs": [],
   "source": [
    "# base class for SVM and SoftMax\n",
    "class LinearClassifier:\n",
    "    def __init__(input_size, num_class):\n",
    "        self.input_size = input_size\n",
    "        self.num_class = num_class\n",
    "        this.W = np.randn(num_class, input_size + 1)\n",
    "\n",
    "    def linear_score(X):\n",
    "        return W.dot(X)\n",
    "\n",
    "    def predict(X):\n",
    "        return linear_score(X)\n",
    "\n",
    "    def loss(X, Y):\n",
    "        return 0"
   ]
  },
  {
   "cell_type": "code",
   "execution_count": 4,
   "metadata": {
    "collapsed": true
   },
   "outputs": [],
   "source": [
    "class SVMClassifier(LinearClassifier):\n",
    "    def loss(X, Y):\n",
    "        Y - predict(X)"
   ]
  },
  {
   "cell_type": "code",
   "execution_count": null,
   "metadata": {
    "collapsed": true
   },
   "outputs": [],
   "source": [
    "class "
   ]
  }
 ],
 "metadata": {
  "kernelspec": {
   "display_name": "Python 3",
   "language": "python",
   "name": "python3"
  },
  "language_info": {
   "codemirror_mode": {
    "name": "ipython",
    "version": 3
   },
   "file_extension": ".py",
   "mimetype": "text/x-python",
   "name": "python",
   "nbconvert_exporter": "python",
   "pygments_lexer": "ipython3",
   "version": "3.6.0"
  }
 },
 "nbformat": 4,
 "nbformat_minor": 0
}
