{
 "cells": [
  {
   "cell_type": "code",
   "execution_count": 1,
   "id": "9e4acfe6-d68d-4c81-b42d-fb9f2d8dadc2",
   "metadata": {},
   "outputs": [],
   "source": [
    "import pandas as pd"
   ]
  },
  {
   "cell_type": "code",
   "execution_count": 2,
   "id": "dd92d2ee-9aea-4293-b0fc-7fa6e444a908",
   "metadata": {},
   "outputs": [
    {
     "data": {
      "text/html": [
       "<div>\n",
       "<style scoped>\n",
       "    .dataframe tbody tr th:only-of-type {\n",
       "        vertical-align: middle;\n",
       "    }\n",
       "\n",
       "    .dataframe tbody tr th {\n",
       "        vertical-align: top;\n",
       "    }\n",
       "\n",
       "    .dataframe thead th {\n",
       "        text-align: right;\n",
       "    }\n",
       "</style>\n",
       "<table border=\"1\" class=\"dataframe\">\n",
       "  <thead>\n",
       "    <tr style=\"text-align: right;\">\n",
       "      <th></th>\n",
       "      <th>caseid</th>\n",
       "      <th>year</th>\n",
       "      <th>age</th>\n",
       "      <th>sex</th>\n",
       "      <th>polviews</th>\n",
       "      <th>partyid</th>\n",
       "      <th>indus10</th>\n",
       "    </tr>\n",
       "  </thead>\n",
       "  <tbody>\n",
       "    <tr>\n",
       "      <th>0</th>\n",
       "      <td>1</td>\n",
       "      <td>1974</td>\n",
       "      <td>21.0</td>\n",
       "      <td>1</td>\n",
       "      <td>4.0</td>\n",
       "      <td>2.0</td>\n",
       "      <td>4970.0</td>\n",
       "    </tr>\n",
       "    <tr>\n",
       "      <th>1</th>\n",
       "      <td>2</td>\n",
       "      <td>1974</td>\n",
       "      <td>41.0</td>\n",
       "      <td>1</td>\n",
       "      <td>5.0</td>\n",
       "      <td>0.0</td>\n",
       "      <td>9160.0</td>\n",
       "    </tr>\n",
       "    <tr>\n",
       "      <th>2</th>\n",
       "      <td>5</td>\n",
       "      <td>1974</td>\n",
       "      <td>58.0</td>\n",
       "      <td>2</td>\n",
       "      <td>6.0</td>\n",
       "      <td>1.0</td>\n",
       "      <td>2670.0</td>\n",
       "    </tr>\n",
       "    <tr>\n",
       "      <th>3</th>\n",
       "      <td>6</td>\n",
       "      <td>1974</td>\n",
       "      <td>30.0</td>\n",
       "      <td>1</td>\n",
       "      <td>5.0</td>\n",
       "      <td>4.0</td>\n",
       "      <td>6870.0</td>\n",
       "    </tr>\n",
       "    <tr>\n",
       "      <th>4</th>\n",
       "      <td>7</td>\n",
       "      <td>1974</td>\n",
       "      <td>48.0</td>\n",
       "      <td>1</td>\n",
       "      <td>5.0</td>\n",
       "      <td>4.0</td>\n",
       "      <td>7860.0</td>\n",
       "    </tr>\n",
       "  </tbody>\n",
       "</table>\n",
       "</div>"
      ],
      "text/plain": [
       "   caseid  year   age  sex  polviews  partyid  indus10\n",
       "0       1  1974  21.0    1       4.0      2.0   4970.0\n",
       "1       2  1974  41.0    1       5.0      0.0   9160.0\n",
       "2       5  1974  58.0    2       6.0      1.0   2670.0\n",
       "3       6  1974  30.0    1       5.0      4.0   6870.0\n",
       "4       7  1974  48.0    1       5.0      4.0   7860.0"
      ]
     },
     "execution_count": 2,
     "metadata": {},
     "output_type": "execute_result"
    }
   ],
   "source": [
    "gss = pd.read_csv('data/gss_bayes.csv')\n",
    "gss.head()"
   ]
  },
  {
   "cell_type": "code",
   "execution_count": 5,
   "id": "e7505583-efd9-40e6-b38e-3efe42b50339",
   "metadata": {},
   "outputs": [
    {
     "data": {
      "text/plain": [
       "(46.143132481233515, 89.0, 18.0)"
      ]
     },
     "execution_count": 5,
     "metadata": {},
     "output_type": "execute_result"
    }
   ],
   "source": [
    "(gss['age'].mean(), gss['age'].max(), gss['age'].min())"
   ]
  },
  {
   "cell_type": "code",
   "execution_count": 7,
   "id": "d6830436-3af5-4a7a-8c14-b8dd252b7fc5",
   "metadata": {},
   "outputs": [
    {
     "data": {
      "text/plain": [
       "(49290, 49290)"
      ]
     },
     "execution_count": 7,
     "metadata": {},
     "output_type": "execute_result"
    }
   ],
   "source": [
    "female = gss['sex'] == 1\n",
    "(len(female), len(gss))"
   ]
  },
  {
   "cell_type": "code",
   "execution_count": 8,
   "id": "05434e2c-7d23-4ba7-82b9-c1b7197da707",
   "metadata": {},
   "outputs": [
    {
     "data": {
      "text/plain": [
       "0.46214242239805237"
      ]
     },
     "execution_count": 8,
     "metadata": {},
     "output_type": "execute_result"
    }
   ],
   "source": [
    "def prob(set):\n",
    "    return set.mean()\n",
    "\n",
    "prob(female)"
   ]
  },
  {
   "cell_type": "code",
   "execution_count": 10,
   "id": "d3fdaf3e-b6f9-4d6b-adc3-643af114e9a4",
   "metadata": {},
   "outputs": [
    {
     "data": {
      "text/plain": [
       "0.27374721038750255"
      ]
     },
     "execution_count": 10,
     "metadata": {},
     "output_type": "execute_result"
    }
   ],
   "source": [
    "liberal = (gss['polviews'] <= 3)\n",
    "prob(liberal)"
   ]
  },
  {
   "cell_type": "code",
   "execution_count": 11,
   "id": "6e3b7991-2974-4c38-89ca-f4a4755b7df7",
   "metadata": {},
   "outputs": [
    {
     "data": {
      "text/plain": [
       "(0.27134641555818956, 0.4580893796783517)"
      ]
     },
     "execution_count": 11,
     "metadata": {},
     "output_type": "execute_result"
    }
   ],
   "source": [
    "(prob(liberal[female]), prob(female[liberal]))"
   ]
  },
  {
   "cell_type": "code",
   "execution_count": 12,
   "id": "26aa1656-02e9-4f36-a938-fb520c5d0eca",
   "metadata": {},
   "outputs": [
    {
     "data": {
      "text/plain": [
       "0.12540068979509028"
      ]
     },
     "execution_count": 12,
     "metadata": {},
     "output_type": "execute_result"
    }
   ],
   "source": [
    "prob(liberal & female)"
   ]
  },
  {
   "cell_type": "code",
   "execution_count": 13,
   "id": "e4d6d147-bed5-4957-a868-280adffdb1f3",
   "metadata": {},
   "outputs": [
    {
     "data": {
      "text/plain": [
       "0.27134641555818956"
      ]
     },
     "execution_count": 13,
     "metadata": {},
     "output_type": "execute_result"
    }
   ],
   "source": [
    "prob(female[liberal]) * prob(liberal)/prob(female)"
   ]
  },
  {
   "cell_type": "code",
   "execution_count": 14,
   "id": "f2d9dcbc-41ac-460a-bec1-0672d8c4c4fa",
   "metadata": {},
   "outputs": [
    {
     "data": {
      "text/plain": [
       "(22779, 49290)"
      ]
     },
     "execution_count": 14,
     "metadata": {},
     "output_type": "execute_result"
    }
   ],
   "source": [
    "(len(liberal[female]), len(gss))"
   ]
  },
  {
   "cell_type": "code",
   "execution_count": 15,
   "id": "76aaeaac-b35c-44c7-9f34-5389df4b8eb4",
   "metadata": {},
   "outputs": [
    {
     "data": {
      "text/plain": [
       "0        False\n",
       "1        False\n",
       "3        False\n",
       "4        False\n",
       "5        False\n",
       "         ...  \n",
       "49277    False\n",
       "49278     True\n",
       "49282    False\n",
       "49286    False\n",
       "49289    False\n",
       "Name: polviews, Length: 22779, dtype: bool"
      ]
     },
     "execution_count": 15,
     "metadata": {},
     "output_type": "execute_result"
    }
   ],
   "source": [
    "liberal[female]"
   ]
  },
  {
   "cell_type": "code",
   "execution_count": 16,
   "id": "531cbb68-d51e-4c1b-beb8-6f1a88f2422a",
   "metadata": {},
   "outputs": [],
   "source": [
    "democrat = (gss['partyid'] <= 1)"
   ]
  },
  {
   "cell_type": "code",
   "execution_count": 18,
   "id": "dbacbc76-2a8d-47bc-82d0-da06642b484d",
   "metadata": {},
   "outputs": [
    {
     "data": {
      "text/plain": [
       "0.3891320002215698"
      ]
     },
     "execution_count": 18,
     "metadata": {},
     "output_type": "execute_result"
    }
   ],
   "source": [
    "prob(liberal[democrat])"
   ]
  },
  {
   "cell_type": "code",
   "execution_count": 19,
   "id": "97f833d8-9e58-48a6-abd0-9d1f5bde9e9d",
   "metadata": {},
   "outputs": [
    {
     "data": {
      "text/plain": [
       "0.38913200022156985"
      ]
     },
     "execution_count": 19,
     "metadata": {},
     "output_type": "execute_result"
    }
   ],
   "source": [
    "prob(liberal & democrat) / prob(democrat)"
   ]
  }
 ],
 "metadata": {
  "kernelspec": {
   "display_name": "Python 3 (ipykernel)",
   "language": "python",
   "name": "python3"
  },
  "language_info": {
   "codemirror_mode": {
    "name": "ipython",
    "version": 3
   },
   "file_extension": ".py",
   "mimetype": "text/x-python",
   "name": "python",
   "nbconvert_exporter": "python",
   "pygments_lexer": "ipython3",
   "version": "3.10.3"
  }
 },
 "nbformat": 4,
 "nbformat_minor": 5
}
