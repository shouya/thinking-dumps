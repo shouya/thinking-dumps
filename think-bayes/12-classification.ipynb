{
 "cells": [
  {
   "cell_type": "code",
   "execution_count": 1,
   "id": "4b2e9e71-cd3c-4adc-8424-4f551e3e5110",
   "metadata": {},
   "outputs": [],
   "source": [
    "# This chapter discussed two classification algorithms: naive bayesian classification and bayesian classification with covariance.\n",
    "#\n",
    "# The basic methodology is to find out the distribution of the measurements M for each group A.\n",
    "# Then based on the measurements M' we made about a new sample, we use it to determine the group \n",
    "# it belongs to by performing bayesian updates based on the likelihood of M' for each group.\n",
    "#\n",
    "# In the book, the sample data's mean and std are calculated for each measurement, which determine the\n",
    "# normal distribution for each measurement. Finally, the normal distribution is used to calculate the\n",
    "# likelihoods.\n",
    "#\n",
    "# The not-so-naive covariance method talks about the potential correlation between the measurements.\n",
    "# For example, Penguins with larger beaks tend to be taller because they tend to have larger body size.\n",
    "# So if we take the covariance of the measurements into account, we can get a better likelihood estimation.\n",
    "#"
   ]
  },
  {
   "cell_type": "code",
   "execution_count": 2,
   "id": "c42332b9-7865-44da-a7df-e69e2cb7790e",
   "metadata": {},
   "outputs": [
    {
     "name": "stdout",
     "output_type": "stream",
     "text": [
      "--2024-01-11 11:02:14--  https://gist.githubusercontent.com/ryanorsinger/0e223fb35472c40d449cec4c0737008b/raw\n",
      "Resolving gist.githubusercontent.com (gist.githubusercontent.com)... 185.199.110.133, 185.199.111.133, 185.199.108.133, ...\n",
      "Connecting to gist.githubusercontent.com (gist.githubusercontent.com)|185.199.110.133|:443... connected.\n",
      "HTTP request sent, awaiting response... 200 OK\n",
      "Length: 15240 (15K) [text/plain]\n",
      "Saving to: ‘data/penguins.csv’\n",
      "\n",
      "data/penguins.csv   100%[===================>]  14.88K  --.-KB/s    in 0s      \n",
      "\n",
      "2024-01-11 11:02:14 (35.2 MB/s) - ‘data/penguins.csv’ saved [15240/15240]\n",
      "\n"
     ]
    }
   ],
   "source": [
    "# The data was stolen from https://gist.github.com/ryanorsinger/0e223fb35472c40d449cec4c0737008b\n",
    "!wget -O data/penguins.csv https://gist.githubusercontent.com/ryanorsinger/0e223fb35472c40d449cec4c0737008b/raw"
   ]
  },
  {
   "cell_type": "code",
   "execution_count": 3,
   "id": "aa770a38-faa1-487d-80ee-de43daa0b766",
   "metadata": {},
   "outputs": [
    {
     "data": {
      "text/html": [
       "<div>\n",
       "<style scoped>\n",
       "    .dataframe tbody tr th:only-of-type {\n",
       "        vertical-align: middle;\n",
       "    }\n",
       "\n",
       "    .dataframe tbody tr th {\n",
       "        vertical-align: top;\n",
       "    }\n",
       "\n",
       "    .dataframe thead th {\n",
       "        text-align: right;\n",
       "    }\n",
       "</style>\n",
       "<table border=\"1\" class=\"dataframe\">\n",
       "  <thead>\n",
       "    <tr style=\"text-align: right;\">\n",
       "      <th></th>\n",
       "      <th>species</th>\n",
       "      <th>island</th>\n",
       "      <th>bill_length_mm</th>\n",
       "      <th>bill_depth_mm</th>\n",
       "      <th>flipper_length_mm</th>\n",
       "      <th>body_mass_g</th>\n",
       "      <th>sex</th>\n",
       "      <th>year</th>\n",
       "    </tr>\n",
       "  </thead>\n",
       "  <tbody>\n",
       "    <tr>\n",
       "      <th>0</th>\n",
       "      <td>Adelie</td>\n",
       "      <td>Torgersen</td>\n",
       "      <td>39.1</td>\n",
       "      <td>18.7</td>\n",
       "      <td>181.0</td>\n",
       "      <td>3750.0</td>\n",
       "      <td>male</td>\n",
       "      <td>2007</td>\n",
       "    </tr>\n",
       "    <tr>\n",
       "      <th>1</th>\n",
       "      <td>Adelie</td>\n",
       "      <td>Torgersen</td>\n",
       "      <td>39.5</td>\n",
       "      <td>17.4</td>\n",
       "      <td>186.0</td>\n",
       "      <td>3800.0</td>\n",
       "      <td>female</td>\n",
       "      <td>2007</td>\n",
       "    </tr>\n",
       "    <tr>\n",
       "      <th>2</th>\n",
       "      <td>Adelie</td>\n",
       "      <td>Torgersen</td>\n",
       "      <td>40.3</td>\n",
       "      <td>18.0</td>\n",
       "      <td>195.0</td>\n",
       "      <td>3250.0</td>\n",
       "      <td>female</td>\n",
       "      <td>2007</td>\n",
       "    </tr>\n",
       "    <tr>\n",
       "      <th>3</th>\n",
       "      <td>Adelie</td>\n",
       "      <td>Torgersen</td>\n",
       "      <td>NaN</td>\n",
       "      <td>NaN</td>\n",
       "      <td>NaN</td>\n",
       "      <td>NaN</td>\n",
       "      <td>NaN</td>\n",
       "      <td>2007</td>\n",
       "    </tr>\n",
       "    <tr>\n",
       "      <th>4</th>\n",
       "      <td>Adelie</td>\n",
       "      <td>Torgersen</td>\n",
       "      <td>36.7</td>\n",
       "      <td>19.3</td>\n",
       "      <td>193.0</td>\n",
       "      <td>3450.0</td>\n",
       "      <td>female</td>\n",
       "      <td>2007</td>\n",
       "    </tr>\n",
       "  </tbody>\n",
       "</table>\n",
       "</div>"
      ],
      "text/plain": [
       "  species     island  bill_length_mm  ...  body_mass_g     sex  year\n",
       "0  Adelie  Torgersen            39.1  ...       3750.0    male  2007\n",
       "1  Adelie  Torgersen            39.5  ...       3800.0  female  2007\n",
       "2  Adelie  Torgersen            40.3  ...       3250.0  female  2007\n",
       "3  Adelie  Torgersen             NaN  ...          NaN     NaN  2007\n",
       "4  Adelie  Torgersen            36.7  ...       3450.0  female  2007\n",
       "\n",
       "[5 rows x 8 columns]"
      ]
     },
     "execution_count": 3,
     "metadata": {},
     "output_type": "execute_result"
    }
   ],
   "source": [
    "import pandas as pd\n",
    "from empiricaldist import Cdf\n",
    "from utils import Pmf\n",
    "from scipy.stats import norm\n",
    "import numpy as np\n",
    "\n",
    "df = pd.read_csv('data/penguins.csv')\n",
    "df.head()"
   ]
  },
  {
   "cell_type": "code",
   "execution_count": 5,
   "id": "dbfb2465-d6ae-4cf3-8121-2d30fdf96e94",
   "metadata": {},
   "outputs": [
    {
     "data": {
      "image/png": "[encoded data removed]",
      "text/plain": [
       "<Figure size 640x480 with 1 Axes>"
      ]
     },
     "metadata": {},
     "output_type": "display_data"
    }
   ],
   "source": [
    "# with this function we make cdf for a chosen measurment. this allows us\n",
    "# to compare the distribution of measurement for each species.\n",
    "def make_cdf_map(df, colname, by='species'):\n",
    "    cdf_map = {}\n",
    "    grouped = df.groupby(by)[colname]\n",
    "    for species, group in grouped:\n",
    "        cdf_map[species] = Cdf.from_seq(group, name=species)\n",
    "    return cdf_map\n",
    "\n",
    "def plot_measurment_cdf(df, colname, by='species'):\n",
    "    cdf_map = make_cdf_map(df, colname, by)\n",
    "    for species, cdf in cdf_map.items():\n",
    "        cdf.plot(label=species, legend=True, xlabel=colname, ylabel=\"CDF\")\n",
    "\n",
    "plot_measurment_cdf(df, \"bill_length_mm\")"
   ]
  },
  {
   "cell_type": "code",
   "execution_count": 7,
   "id": "1a7fc92f-0a01-4678-ae5f-af5968c17fdc",
   "metadata": {},
   "outputs": [
    {
     "data": {
      "image/png": "[encoded data removed]",
      "text/plain": [
       "<Figure size 640x480 with 1 Axes>"
      ]
     },
     "metadata": {},
     "output_type": "display_data"
    }
   ],
   "source": [
    "plot_measurment_cdf(df, \"bill_depth_mm\")"
   ]
  },
  {
   "cell_type": "code",
   "execution_count": 11,
   "id": "8e21d5ba-e6ce-4ee7-a28d-2497f2e9cd05",
   "metadata": {},
   "outputs": [
    {
     "name": "stdout",
     "output_type": "stream",
     "text": [
      "bill_length_mm Adelie:  (38.79139072847682, 2.6545709771066246)\n",
      "bill_length_mm Chinstrap:  (48.83382352941177, 3.31461160417102)\n",
      "bill_length_mm Gentoo:  (47.5048780487805, 3.069303929418552)\n",
      "bill_depth_mm Adelie:  (18.34635761589404, 1.2126144287882998)\n",
      "bill_depth_mm Chinstrap:  (18.42058823529412, 1.1270156874957824)\n",
      "bill_depth_mm Gentoo:  (14.982113821138213, 0.9772229210631793)\n"
     ]
    }
   ],
   "source": [
    "# now let's make a normal dsitribution for each measurements of each species\n",
    "def make_norm_map(df, colnames, by='species'):\n",
    "    norm_map = {}\n",
    "    for colname in colnames:\n",
    "        norm_map[colname] = {}\n",
    "        cdf_map = make_cdf_map(df, colname, by)\n",
    "        for species, cdf in cdf_map.items():\n",
    "            print(f'{colname} {species}: ', (cdf.mean(), cdf.std()))\n",
    "            norm_map[colname][species] = norm(cdf.mean(), cdf.std())\n",
    "    return norm_map\n",
    "\n",
    "norm_map = make_norm_map(df, ['bill_length_mm', 'bill_depth_mm'])"
   ]
  },
  {
   "cell_type": "code",
   "execution_count": 49,
   "id": "6a580ceb-22b5-45d3-9470-e27c53f266e7",
   "metadata": {},
   "outputs": [
    {
     "name": "stdout",
     "output_type": "stream",
     "text": [
      "Adelie\n"
     ]
    },
    {
     "data": {
      "text/html": [
       "<div>\n",
       "<style scoped>\n",
       "    .dataframe tbody tr th:only-of-type {\n",
       "        vertical-align: middle;\n",
       "    }\n",
       "\n",
       "    .dataframe tbody tr th {\n",
       "        vertical-align: top;\n",
       "    }\n",
       "\n",
       "    .dataframe thead th {\n",
       "        text-align: right;\n",
       "    }\n",
       "</style>\n",
       "<table border=\"1\" class=\"dataframe\">\n",
       "  <thead>\n",
       "    <tr style=\"text-align: right;\">\n",
       "      <th></th>\n",
       "      <th>probs</th>\n",
       "    </tr>\n",
       "  </thead>\n",
       "  <tbody>\n",
       "    <tr>\n",
       "      <th>Adelie</th>\n",
       "      <td>0.973552</td>\n",
       "    </tr>\n",
       "    <tr>\n",
       "      <th>Chinstrap</th>\n",
       "      <td>0.025932</td>\n",
       "    </tr>\n",
       "    <tr>\n",
       "      <th>Gentoo</th>\n",
       "      <td>0.000516</td>\n",
       "    </tr>\n",
       "  </tbody>\n",
       "</table>\n",
       "</div>"
      ],
      "text/plain": [
       "Adelie       0.973552\n",
       "Chinstrap    0.025932\n",
       "Gentoo       0.000516\n",
       "dtype: float64"
      ]
     },
     "execution_count": 49,
     "metadata": {},
     "output_type": "execute_result"
    }
   ],
   "source": [
    "def classify(norm_map, measurements, classes='auto'):\n",
    "    if classes == 'auto':\n",
    "        classes = list(list(norm_map.values())[0].keys())\n",
    "        \n",
    "    prior = Pmf(1, classes)\n",
    "    for colname, value in measurements.items():\n",
    "        likelihood = [norm_map[colname][c].pdf(value) for c in classes]\n",
    "        prior *= likelihood\n",
    "    prior.normalize()\n",
    "    return prior\n",
    "\n",
    "example_classification = classify(norm_map, {'bill_length_mm': 40, 'bill_depth_mm': 18})\n",
    "print(example_classification.idxmax())\n",
    "example_classification"
   ]
  },
  {
   "cell_type": "code",
   "execution_count": 55,
   "id": "e381ed34-9aed-4e0a-83a9-fcef26fabc43",
   "metadata": {},
   "outputs": [
    {
     "data": {
      "text/plain": [
       "(342, 321, 0.9385964912280702)"
      ]
     },
     "execution_count": 55,
     "metadata": {},
     "output_type": "execute_result"
    }
   ],
   "source": [
    "# Now we try to evaluate how good our model performs on the original dataset.\n",
    "def evaluate(df, norm_map, measurement_fields='auto', class_field='species'):\n",
    "    if measurement_fields == 'auto':\n",
    "        measurement_fields = norm_map.keys()\n",
    "        \n",
    "    n_valid = 0\n",
    "    n_correct = 0\n",
    "    for _, row in df.iterrows():\n",
    "        measurements = dict(row[measurement_fields])\n",
    "        if any(np.isnan(v) for v in measurements.values()):\n",
    "            continue\n",
    "        n_valid += 1\n",
    "        true_class = str(row[class_field])\n",
    "        inferred_class = classify(norm_map, measurements)\n",
    "        if true_class == inferred_class.idxmax():\n",
    "            n_correct += 1\n",
    "    return (n_valid, n_correct, n_correct*1.0/n_valid)\n",
    "\n",
    "evaluate(df, norm_map)"
   ]
  },
  {
   "cell_type": "code",
   "execution_count": 57,
   "id": "e894b68e-c27f-41b9-bf33-43b4808bfb0f",
   "metadata": {},
   "outputs": [
    {
     "name": "stdout",
     "output_type": "stream",
     "text": [
      "bill_length_mm Adelie:  (38.79139072847682, 2.6545709771066246)\n",
      "bill_length_mm Chinstrap:  (48.83382352941177, 3.31461160417102)\n",
      "bill_length_mm Gentoo:  (47.5048780487805, 3.069303929418552)\n",
      "bill_depth_mm Adelie:  (18.34635761589404, 1.2126144287882998)\n",
      "bill_depth_mm Chinstrap:  (18.42058823529412, 1.1270156874957824)\n",
      "bill_depth_mm Gentoo:  (14.982113821138213, 0.9772229210631793)\n",
      "flipper_length_mm Adelie:  (189.95364238410596, 6.517767614763347)\n",
      "flipper_length_mm Chinstrap:  (195.8235294117647, 7.079259633253841)\n",
      "flipper_length_mm Gentoo:  (217.18699186991867, 6.458560328762061)\n",
      "body_mass_g Adelie:  (3700.6622516556286, 457.04517271224495)\n",
      "body_mass_g Chinstrap:  (3733.088235294118, 381.49862135646805)\n",
      "body_mass_g Gentoo:  (5076.016260162602, 502.0628014961636)\n"
     ]
    },
    {
     "data": {
      "text/plain": [
       "(342, 331, 0.9678362573099415)"
      ]
     },
     "execution_count": 57,
     "metadata": {},
     "output_type": "execute_result"
    }
   ],
   "source": [
    "# let's try with more measurement dimensions\n",
    "norm_map2 = make_norm_map(df, ['bill_length_mm', 'bill_depth_mm', 'flipper_length_mm', 'body_mass_g'])\n",
    "evaluate(df, norm_map2)"
   ]
  },
  {
   "cell_type": "code",
   "execution_count": 86,
   "id": "0ab902f6-02dd-42dc-927e-dcacd98085c4",
   "metadata": {},
   "outputs": [],
   "source": [
    "# Now let's play with covariance.\n",
    "from scipy.stats import multivariate_normal\n",
    "\n",
    "def make_multinorm_map(df, colnames, by='species'):\n",
    "    norm_map = {}\n",
    "    grouped = df.groupby(by)\n",
    "    for species, group in grouped:\n",
    "        features = group[colnames]\n",
    "        norm_map[species] = multivariate_normal(features.mean(), features.cov())\n",
    "    return norm_map\n",
    "\n",
    "multinorm_map = make_multinorm_map(df, ['bill_length_mm', 'bill_depth_mm'])"
   ]
  },
  {
   "cell_type": "code",
   "execution_count": 87,
   "id": "ef3c4648-5bbe-4019-8f1a-e99e2c13c487",
   "metadata": {},
   "outputs": [
    {
     "data": {
      "text/plain": [
       "(342, 333, 0.9736842105263158)"
      ]
     },
     "execution_count": 87,
     "metadata": {},
     "output_type": "execute_result"
    }
   ],
   "source": [
    "# now let's evaluate the performance\n",
    "\n",
    "# NOTE: argument 'measurements' is a list of floats representing the measurements made\n",
    "# it must be taken in the same order as the second argument of make_multinorm_map.\n",
    "def classify_multinorm(multinorm_map, measurements, classes='auto'):\n",
    "    if classes == 'auto':\n",
    "        classes = multinorm_map.keys()\n",
    "\n",
    "    prior = Pmf(1, classes)\n",
    "    likelihoods = []\n",
    "    for c in classes:\n",
    "        likelihoods.append(multinorm_map[c].pdf(measurements))\n",
    "    prior *= likelihoods\n",
    "    prior.normalize()\n",
    "    return prior\n",
    "    \n",
    "def evaluate_multinorm(df, multinorm_map, measurement_fields, class_field='species'):\n",
    "    n_valid = 0\n",
    "    n_correct = 0\n",
    "    for _, row in df.iterrows():\n",
    "        measurements = list(row[measurement_fields])\n",
    "        if any(np.isnan(v) for v in measurements):\n",
    "            continue\n",
    "        n_valid += 1\n",
    "        true_class = str(row[class_field])\n",
    "        inferred_class = classify_multinorm(multinorm_map, measurements)\n",
    "        if true_class == inferred_class.idxmax():\n",
    "            n_correct += 1\n",
    "    return (n_valid, n_correct, n_correct*1.0/n_valid)\n",
    "    \n",
    "evaluate_multinorm(df, multinorm_map, ['bill_length_mm', 'bill_depth_mm'])"
   ]
  },
  {
   "cell_type": "code",
   "execution_count": 88,
   "id": "7a7a7b42-26bb-48bb-b0aa-cad6e2fd14c5",
   "metadata": {},
   "outputs": [],
   "source": [
    "# this time we got 333/342 right, better than previous attempt 321/342"
   ]
  },
  {
   "cell_type": "code",
   "execution_count": 89,
   "id": "5b9ad9c7-bb72-4a14-8508-252416ddb5e9",
   "metadata": {},
   "outputs": [
    {
     "data": {
      "text/plain": [
       "(342, 339, 0.9912280701754386)"
      ]
     },
     "execution_count": 89,
     "metadata": {},
     "output_type": "execute_result"
    }
   ],
   "source": [
    "# Exercise 12-1: implement a classifier using all four features.\n",
    "#\n",
    "# I have already done that previously for the normal predictor. I haven't done it for\n",
    "# the multinorm version yet so here I'll try it.\n",
    "\n",
    "multinorm_map2 = make_multinorm_map(df, ['bill_length_mm', 'bill_depth_mm', 'flipper_length_mm', 'body_mass_g'])\n",
    "evaluate_multinorm(df, multinorm_map2, ['bill_length_mm', 'bill_depth_mm', 'flipper_length_mm', 'body_mass_g'])"
   ]
  },
  {
   "cell_type": "code",
   "execution_count": null,
   "id": "555a0d36-e5c0-4779-b68f-9acaca6945e9",
   "metadata": {},
   "outputs": [],
   "source": [
    "# 339/342, 99% correct. It's a lot better than previous version."
   ]
  },
  {
   "cell_type": "code",
   "execution_count": 93,
   "id": "dd500592-62b0-43d1-b534-4b023675fc9a",
   "metadata": {},
   "outputs": [
    {
     "name": "stdout",
     "output_type": "stream",
     "text": [
      "bill_length_mm female:  (42.0969696969697, 4.888594322873109)\n",
      "bill_length_mm male:  (45.85476190476191, 5.35089900684043)\n",
      "bill_depth_mm female:  (16.42545454545455, 1.790231220734199)\n",
      "bill_depth_mm male:  (17.891071428571426, 1.857796645451364)\n",
      "flipper_length_mm female:  (197.36363636363637, 12.462837319390268)\n",
      "flipper_length_mm male:  (204.5059523809524, 14.504513675063821)\n",
      "body_mass_g female:  (3862.2727272727275, 664.1502783907429)\n",
      "body_mass_g male:  (4545.684523809525, 785.2812518597349)\n",
      "--------------------\n",
      "bill_length_mm:  (342, 193, 0.564327485380117)\n",
      "bill_depth_mm:  (342, 205, 0.5994152046783626)\n",
      "flipper_length_mm:  (342, 180, 0.5263157894736842)\n",
      "body_mass_g:  (342, 199, 0.5818713450292398)\n"
     ]
    }
   ],
   "source": [
    "# Exercise 12-2: use a bayesian classifier to classify the penguins by sex.\n",
    "# Answer: which features are most useful? What's the accuracy?\n",
    "\n",
    "# Attempt 1: single-feature classifier with the goal of finding the most useful feature\n",
    "all_features = ['bill_length_mm', 'bill_depth_mm', 'flipper_length_mm', 'body_mass_g']\n",
    "norm_maps_by_sex = {f: make_norm_map(df, [f], by='sex') for f in all_features}\n",
    "print('--------------------')\n",
    "\n",
    "for f, norm_map in norm_maps_by_sex.items():\n",
    "    print(f'{f}: ', evaluate(df, norm_maps_by_sex[f], class_field='sex'))"
   ]
  },
  {
   "cell_type": "code",
   "execution_count": 94,
   "id": "7d4ca482-452b-44ba-a72f-23a947a59b9f",
   "metadata": {},
   "outputs": [
    {
     "name": "stdout",
     "output_type": "stream",
     "text": [
      "bill_length_mm female:  (42.0969696969697, 4.888594322873109)\n",
      "bill_length_mm male:  (45.85476190476191, 5.35089900684043)\n",
      "bill_depth_mm female:  (16.42545454545455, 1.790231220734199)\n",
      "bill_depth_mm male:  (17.891071428571426, 1.857796645451364)\n",
      "flipper_length_mm female:  (197.36363636363637, 12.462837319390268)\n",
      "flipper_length_mm male:  (204.5059523809524, 14.504513675063821)\n",
      "body_mass_g female:  (3862.2727272727275, 664.1502783907429)\n",
      "body_mass_g male:  (4545.684523809525, 785.2812518597349)\n"
     ]
    },
    {
     "data": {
      "text/plain": [
       "(342, 246, 0.7192982456140351)"
      ]
     },
     "execution_count": 94,
     "metadata": {},
     "output_type": "execute_result"
    }
   ],
   "source": [
    "# Unfortunately, none of them perform well enough.\n",
    "# Attempt 2: let's try combining all features.\n",
    "\n",
    "norm_maps_by_sex_2 = make_norm_map(df, all_features, by='sex')\n",
    "evaluate(df, norm_maps_by_sex_2, class_field='sex')"
   ]
  },
  {
   "cell_type": "code",
   "execution_count": 96,
   "id": "d5e02a31-b1ec-4b02-b9a5-e698810656fa",
   "metadata": {},
   "outputs": [
    {
     "data": {
      "text/plain": [
       "(342, 302, 0.8830409356725146)"
      ]
     },
     "execution_count": 96,
     "metadata": {},
     "output_type": "execute_result"
    }
   ],
   "source": [
    "# An improvement, but 72% isn't great either.\n",
    "# Attempt 3: let us try the multivariate model.\n",
    "norm_maps_by_sex_2 = make_multinorm_map(df, all_features, by='sex')\n",
    "evaluate_multinorm(df, norm_maps_by_sex_2, all_features, class_field='sex')"
   ]
  },
  {
   "cell_type": "code",
   "execution_count": 108,
   "id": "51055e56-f231-4e99-823a-9bb97f03983e",
   "metadata": {},
   "outputs": [
    {
     "data": {
      "text/plain": [
       "(342, 309, 0.9035087719298246)"
      ]
     },
     "execution_count": 108,
     "metadata": {},
     "output_type": "execute_result"
    }
   ],
   "source": [
    "# A lot better. But it's still not good enough. How about we use a two-stage predictor:\n",
    "# first determine the species using the measurements, then under each species we use\n",
    "# the measurement to determine the sex?\n",
    "# Attempt 4: speciated multi_norm\n",
    "def make_speciated_sex_model(df, features):\n",
    "    model = {}\n",
    "    for species, group in df.groupby('species'):\n",
    "        model[species] = {}\n",
    "        measurements = group[features]\n",
    "        mean = measurements.mean()\n",
    "        cov = measurements.cov()\n",
    "        model[species]['model'] = multivariate_normal(mean, cov)\n",
    "\n",
    "        # then for each sex\n",
    "        for sex, group in group.groupby('sex'):\n",
    "            measurements = group[features]\n",
    "            mean = measurements.mean()\n",
    "            cov = measurements.cov()\n",
    "            model[species][sex] = multivariate_normal(mean, cov)\n",
    "    return model\n",
    "\n",
    "def classify_speciated_sex(model, measurements):\n",
    "    species_classes = model.keys()\n",
    "    prior_species = Pmf(1, species_classes)\n",
    "    likelihood_species = [model[s]['model'].pdf(measurements) for s in species_classes]\n",
    "    species = (prior_species * likelihood_species).idxmax()\n",
    "\n",
    "    sex_classes = [k for k in model[species].keys() if k != 'model']\n",
    "    prior_sex = Pmf(1, sex_classes)\n",
    "    likelihood_sex = [model[species][s].pdf(measurements) for s in sex_classes]\n",
    "    sex_posterior = prior_sex * likelihood_sex\n",
    "    sex_posterior.normalize()\n",
    "    return sex_posterior\n",
    "\n",
    "def evaluate_speciated_sex(df, model, features):\n",
    "    n_valid = 0\n",
    "    n_correct = 0\n",
    "    for _, row in df.iterrows():\n",
    "        measurements = list(row[features])\n",
    "        if any(np.isnan(v) for v in measurements):\n",
    "            continue\n",
    "        n_valid += 1\n",
    "        true_class = str(row['sex'])\n",
    "        inferred_class = classify_speciated_sex(model, measurements)\n",
    "        if true_class == inferred_class.idxmax():\n",
    "            n_correct += 1\n",
    "    return (n_valid, n_correct, n_correct*1.0/n_valid)\n",
    "\n",
    "norm_maps_by_sex_3 = make_speciated_sex_model(df, all_features)\n",
    "evaluate_speciated_sex(df, norm_maps_by_sex_3, all_features)"
   ]
  },
  {
   "cell_type": "code",
   "execution_count": null,
   "id": "fc92cae3-bdf5-4e53-8d45-6fb943b7c42d",
   "metadata": {},
   "outputs": [],
   "source": []
  }
 ],
 "metadata": {
  "kernelspec": {
   "display_name": "Python 3 (ipykernel)",
   "language": "python",
   "name": "python3"
  },
  "language_info": {
   "codemirror_mode": {
    "name": "ipython",
    "version": 3
   },
   "file_extension": ".py",
   "mimetype": "text/x-python",
   "name": "python",
   "nbconvert_exporter": "python",
   "pygments_lexer": "ipython3",
   "version": "3.10.3"
  }
 },
 "nbformat": 4,
 "nbformat_minor": 5
}
