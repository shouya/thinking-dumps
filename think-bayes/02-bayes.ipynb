{
 "cells": [
  {
   "cell_type": "code",
   "execution_count": 3,
   "id": "4e352e45-81d6-45e3-ba76-92cd471fd276",
   "metadata": {},
   "outputs": [],
   "source": [
    "# bayesian table for calculating poterior\n",
    "import pandas as pd\n",
    "from fractions import Fraction"
   ]
  },
  {
   "cell_type": "code",
   "execution_count": 6,
   "id": "53321907-b58d-45ac-908d-36c78d9f39dc",
   "metadata": {},
   "outputs": [
    {
     "data": {
      "text/html": [
       "<div>\n",
       "<style scoped>\n",
       "    .dataframe tbody tr th:only-of-type {\n",
       "        vertical-align: middle;\n",
       "    }\n",
       "\n",
       "    .dataframe tbody tr th {\n",
       "        vertical-align: top;\n",
       "    }\n",
       "\n",
       "    .dataframe thead th {\n",
       "        text-align: right;\n",
       "    }\n",
       "</style>\n",
       "<table border=\"1\" class=\"dataframe\">\n",
       "  <thead>\n",
       "    <tr style=\"text-align: right;\">\n",
       "      <th></th>\n",
       "      <th>prior</th>\n",
       "      <th>likelihood</th>\n",
       "    </tr>\n",
       "  </thead>\n",
       "  <tbody>\n",
       "    <tr>\n",
       "      <th>Jar A</th>\n",
       "      <td>1/2</td>\n",
       "      <td>3/4</td>\n",
       "    </tr>\n",
       "    <tr>\n",
       "      <th>Jar B</th>\n",
       "      <td>1/2</td>\n",
       "      <td>1/2</td>\n",
       "    </tr>\n",
       "  </tbody>\n",
       "</table>\n",
       "</div>"
      ],
      "text/plain": [
       "      prior likelihood\n",
       "Jar A   1/2        3/4\n",
       "Jar B   1/2        1/2"
      ]
     },
     "execution_count": 6,
     "metadata": {},
     "output_type": "execute_result"
    }
   ],
   "source": [
    "# the vanilla cookie jar problem\n",
    "df = pd.DataFrame(index=[\"Jar A\", \"Jar B\"])\n",
    "df[\"prior\"] = Fraction(1, 2), Fraction(1, 2)\n",
    "df[\"likelihood\"] = Fraction(3, 4), Fraction(1, 2)\n",
    "df"
   ]
  },
  {
   "cell_type": "code",
   "execution_count": 9,
   "id": "11098f41-17fa-4053-a1ae-f09eda57f383",
   "metadata": {},
   "outputs": [],
   "source": [
    "def update(df):\n",
    "    # unnormalized posterior\n",
    "    df[\"unnorm\"] = df[\"prior\"] * df[\"likelihood\"]\n",
    "    prob = df[\"unnorm\"].sum()\n",
    "    df[\"posterior\"] = df[\"unnorm\"] / prob"
   ]
  },
  {
   "cell_type": "code",
   "execution_count": 10,
   "id": "0ef41320-d602-49fe-b92b-d6be0e37b1c8",
   "metadata": {},
   "outputs": [
    {
     "data": {
      "text/html": [
       "<div>\n",
       "<style scoped>\n",
       "    .dataframe tbody tr th:only-of-type {\n",
       "        vertical-align: middle;\n",
       "    }\n",
       "\n",
       "    .dataframe tbody tr th {\n",
       "        vertical-align: top;\n",
       "    }\n",
       "\n",
       "    .dataframe thead th {\n",
       "        text-align: right;\n",
       "    }\n",
       "</style>\n",
       "<table border=\"1\" class=\"dataframe\">\n",
       "  <thead>\n",
       "    <tr style=\"text-align: right;\">\n",
       "      <th></th>\n",
       "      <th>prior</th>\n",
       "      <th>likelihood</th>\n",
       "      <th>unnorm</th>\n",
       "      <th>posterior</th>\n",
       "    </tr>\n",
       "  </thead>\n",
       "  <tbody>\n",
       "    <tr>\n",
       "      <th>Jar A</th>\n",
       "      <td>1/2</td>\n",
       "      <td>3/4</td>\n",
       "      <td>3/8</td>\n",
       "      <td>3/5</td>\n",
       "    </tr>\n",
       "    <tr>\n",
       "      <th>Jar B</th>\n",
       "      <td>1/2</td>\n",
       "      <td>1/2</td>\n",
       "      <td>1/4</td>\n",
       "      <td>2/5</td>\n",
       "    </tr>\n",
       "  </tbody>\n",
       "</table>\n",
       "</div>"
      ],
      "text/plain": [
       "      prior likelihood unnorm posterior\n",
       "Jar A   1/2        3/4    3/8       3/5\n",
       "Jar B   1/2        1/2    1/4       2/5"
      ]
     },
     "execution_count": 10,
     "metadata": {},
     "output_type": "execute_result"
    }
   ],
   "source": [
    "update(df)\n",
    "df"
   ]
  },
  {
   "cell_type": "code",
   "execution_count": 12,
   "id": "0d19ff5b-f137-42ca-b58d-e87d1f6eb380",
   "metadata": {},
   "outputs": [
    {
     "data": {
      "text/html": [
       "<div>\n",
       "<style scoped>\n",
       "    .dataframe tbody tr th:only-of-type {\n",
       "        vertical-align: middle;\n",
       "    }\n",
       "\n",
       "    .dataframe tbody tr th {\n",
       "        vertical-align: top;\n",
       "    }\n",
       "\n",
       "    .dataframe thead th {\n",
       "        text-align: right;\n",
       "    }\n",
       "</style>\n",
       "<table border=\"1\" class=\"dataframe\">\n",
       "  <thead>\n",
       "    <tr style=\"text-align: right;\">\n",
       "      <th></th>\n",
       "      <th>prior</th>\n",
       "      <th>likelihood</th>\n",
       "    </tr>\n",
       "  </thead>\n",
       "  <tbody>\n",
       "    <tr>\n",
       "      <th>d6</th>\n",
       "      <td>1/3</td>\n",
       "      <td>1/6</td>\n",
       "    </tr>\n",
       "    <tr>\n",
       "      <th>d8</th>\n",
       "      <td>1/3</td>\n",
       "      <td>1/8</td>\n",
       "    </tr>\n",
       "    <tr>\n",
       "      <th>d12</th>\n",
       "      <td>1/3</td>\n",
       "      <td>1/12</td>\n",
       "    </tr>\n",
       "  </tbody>\n",
       "</table>\n",
       "</div>"
      ],
      "text/plain": [
       "    prior likelihood\n",
       "d6    1/3        1/6\n",
       "d8    1/3        1/8\n",
       "d12   1/3       1/12"
      ]
     },
     "execution_count": 12,
     "metadata": {},
     "output_type": "execute_result"
    }
   ],
   "source": [
    "# the d6, d8, d12 dice problem\n",
    "df = pd.DataFrame(index=[\"d6\", \"d8\", \"d12\"])\n",
    "df[\"prior\"] = Fraction(1, 3), Fraction(1, 3), Fraction(1, 3)\n",
    "df[\"likelihood\"] = Fraction(1, 6), Fraction(1, 8), Fraction(1, 12)\n",
    "df"
   ]
  },
  {
   "cell_type": "code",
   "execution_count": 13,
   "id": "9d5ee86f-0ef3-45c7-8462-913b9d3886ba",
   "metadata": {},
   "outputs": [
    {
     "data": {
      "text/html": [
       "<div>\n",
       "<style scoped>\n",
       "    .dataframe tbody tr th:only-of-type {\n",
       "        vertical-align: middle;\n",
       "    }\n",
       "\n",
       "    .dataframe tbody tr th {\n",
       "        vertical-align: top;\n",
       "    }\n",
       "\n",
       "    .dataframe thead th {\n",
       "        text-align: right;\n",
       "    }\n",
       "</style>\n",
       "<table border=\"1\" class=\"dataframe\">\n",
       "  <thead>\n",
       "    <tr style=\"text-align: right;\">\n",
       "      <th></th>\n",
       "      <th>prior</th>\n",
       "      <th>likelihood</th>\n",
       "      <th>unnorm</th>\n",
       "      <th>posterior</th>\n",
       "    </tr>\n",
       "  </thead>\n",
       "  <tbody>\n",
       "    <tr>\n",
       "      <th>d6</th>\n",
       "      <td>1/3</td>\n",
       "      <td>1/6</td>\n",
       "      <td>1/18</td>\n",
       "      <td>4/9</td>\n",
       "    </tr>\n",
       "    <tr>\n",
       "      <th>d8</th>\n",
       "      <td>1/3</td>\n",
       "      <td>1/8</td>\n",
       "      <td>1/24</td>\n",
       "      <td>1/3</td>\n",
       "    </tr>\n",
       "    <tr>\n",
       "      <th>d12</th>\n",
       "      <td>1/3</td>\n",
       "      <td>1/12</td>\n",
       "      <td>1/36</td>\n",
       "      <td>2/9</td>\n",
       "    </tr>\n",
       "  </tbody>\n",
       "</table>\n",
       "</div>"
      ],
      "text/plain": [
       "    prior likelihood unnorm posterior\n",
       "d6    1/3        1/6   1/18       4/9\n",
       "d8    1/3        1/8   1/24       1/3\n",
       "d12   1/3       1/12   1/36       2/9"
      ]
     },
     "execution_count": 13,
     "metadata": {},
     "output_type": "execute_result"
    }
   ],
   "source": [
    "update(df)\n",
    "df"
   ]
  },
  {
   "cell_type": "code",
   "execution_count": 15,
   "id": "8bc57fe7-e01c-422c-ac98-7433fa60740e",
   "metadata": {},
   "outputs": [
    {
     "data": {
      "text/html": [
       "<div>\n",
       "<style scoped>\n",
       "    .dataframe tbody tr th:only-of-type {\n",
       "        vertical-align: middle;\n",
       "    }\n",
       "\n",
       "    .dataframe tbody tr th {\n",
       "        vertical-align: top;\n",
       "    }\n",
       "\n",
       "    .dataframe thead th {\n",
       "        text-align: right;\n",
       "    }\n",
       "</style>\n",
       "<table border=\"1\" class=\"dataframe\">\n",
       "  <thead>\n",
       "    <tr style=\"text-align: right;\">\n",
       "      <th></th>\n",
       "      <th>prior</th>\n",
       "      <th>likelihood</th>\n",
       "      <th>unnorm</th>\n",
       "      <th>posterior</th>\n",
       "    </tr>\n",
       "  </thead>\n",
       "  <tbody>\n",
       "    <tr>\n",
       "      <th>door 1</th>\n",
       "      <td>1/3</td>\n",
       "      <td>0</td>\n",
       "      <td>0</td>\n",
       "      <td>0</td>\n",
       "    </tr>\n",
       "    <tr>\n",
       "      <th>door 2</th>\n",
       "      <td>1/3</td>\n",
       "      <td>1/2</td>\n",
       "      <td>1/6</td>\n",
       "      <td>1/3</td>\n",
       "    </tr>\n",
       "    <tr>\n",
       "      <th>door 3</th>\n",
       "      <td>1/3</td>\n",
       "      <td>1</td>\n",
       "      <td>1/3</td>\n",
       "      <td>2/3</td>\n",
       "    </tr>\n",
       "  </tbody>\n",
       "</table>\n",
       "</div>"
      ],
      "text/plain": [
       "       prior likelihood unnorm posterior\n",
       "door 1   1/3          0      0         0\n",
       "door 2   1/3        1/2    1/6       1/3\n",
       "door 3   1/3          1    1/3       2/3"
      ]
     },
     "execution_count": 15,
     "metadata": {},
     "output_type": "execute_result"
    }
   ],
   "source": [
    "# the monty hall problem\n",
    "df = pd.DataFrame(index=[\"door 1\", \"door 2\", \"door 3\"])\n",
    "df[\"prior\"] = Fraction(1, 3), Fraction(1, 3), Fraction(1, 3)\n",
    "df[\"likelihood\"] = 0, Fraction(1, 2), 1\n",
    "update(df)\n",
    "df"
   ]
  },
  {
   "cell_type": "code",
   "execution_count": 16,
   "id": "0cc87c1c-49f3-46cc-ab4b-a4a6b01f2f12",
   "metadata": {},
   "outputs": [
    {
     "data": {
      "text/html": [
       "<div>\n",
       "<style scoped>\n",
       "    .dataframe tbody tr th:only-of-type {\n",
       "        vertical-align: middle;\n",
       "    }\n",
       "\n",
       "    .dataframe tbody tr th {\n",
       "        vertical-align: top;\n",
       "    }\n",
       "\n",
       "    .dataframe thead th {\n",
       "        text-align: right;\n",
       "    }\n",
       "</style>\n",
       "<table border=\"1\" class=\"dataframe\">\n",
       "  <thead>\n",
       "    <tr style=\"text-align: right;\">\n",
       "      <th></th>\n",
       "      <th>prior</th>\n",
       "      <th>likelihood</th>\n",
       "      <th>unnorm</th>\n",
       "      <th>posterior</th>\n",
       "    </tr>\n",
       "  </thead>\n",
       "  <tbody>\n",
       "    <tr>\n",
       "      <th>fair coin</th>\n",
       "      <td>1/2</td>\n",
       "      <td>1/2</td>\n",
       "      <td>1/4</td>\n",
       "      <td>1/3</td>\n",
       "    </tr>\n",
       "    <tr>\n",
       "      <th>trick coin</th>\n",
       "      <td>1/2</td>\n",
       "      <td>1</td>\n",
       "      <td>1/2</td>\n",
       "      <td>2/3</td>\n",
       "    </tr>\n",
       "  </tbody>\n",
       "</table>\n",
       "</div>"
      ],
      "text/plain": [
       "           prior likelihood unnorm posterior\n",
       "fair coin    1/2        1/2    1/4       1/3\n",
       "trick coin   1/2          1    1/2       2/3"
      ]
     },
     "execution_count": 16,
     "metadata": {},
     "output_type": "execute_result"
    }
   ],
   "source": [
    "# trick coin problem\n",
    "df = pd.DataFrame(index=[\"fair coin\", \"trick coin\"])\n",
    "df[\"prior\"] = Fraction(1, 2)\n",
    "df[\"likelihood\"] = Fraction(1, 2), 1\n",
    "update(df)\n",
    "df"
   ]
  },
  {
   "cell_type": "code",
   "execution_count": 17,
   "id": "55317c50-eb3f-4643-a5a8-e5599a4e9410",
   "metadata": {},
   "outputs": [
    {
     "data": {
      "text/html": [
       "<div>\n",
       "<style scoped>\n",
       "    .dataframe tbody tr th:only-of-type {\n",
       "        vertical-align: middle;\n",
       "    }\n",
       "\n",
       "    .dataframe tbody tr th {\n",
       "        vertical-align: top;\n",
       "    }\n",
       "\n",
       "    .dataframe thead th {\n",
       "        text-align: right;\n",
       "    }\n",
       "</style>\n",
       "<table border=\"1\" class=\"dataframe\">\n",
       "  <thead>\n",
       "    <tr style=\"text-align: right;\">\n",
       "      <th></th>\n",
       "      <th>prior</th>\n",
       "      <th>likelihood</th>\n",
       "      <th>unnorm</th>\n",
       "      <th>posterior</th>\n",
       "    </tr>\n",
       "  </thead>\n",
       "  <tbody>\n",
       "    <tr>\n",
       "      <th>1 boy 1 girl</th>\n",
       "      <td>1/2</td>\n",
       "      <td>1/2</td>\n",
       "      <td>1/4</td>\n",
       "      <td>1/2</td>\n",
       "    </tr>\n",
       "    <tr>\n",
       "      <th>2 girls</th>\n",
       "      <td>1/4</td>\n",
       "      <td>1</td>\n",
       "      <td>1/4</td>\n",
       "      <td>1/2</td>\n",
       "    </tr>\n",
       "    <tr>\n",
       "      <th>2 boys</th>\n",
       "      <td>1/4</td>\n",
       "      <td>0</td>\n",
       "      <td>0</td>\n",
       "      <td>0</td>\n",
       "    </tr>\n",
       "  </tbody>\n",
       "</table>\n",
       "</div>"
      ],
      "text/plain": [
       "             prior likelihood unnorm posterior\n",
       "1 boy 1 girl   1/2        1/2    1/4       1/2\n",
       "2 girls        1/4          1    1/4       1/2\n",
       "2 boys         1/4          0      0         0"
      ]
     },
     "execution_count": 17,
     "metadata": {},
     "output_type": "execute_result"
    }
   ],
   "source": [
    "# girl problem\n",
    "df = pd.DataFrame(index=[\"1 boy 1 girl\", \"2 girls\", \"2 boys\"])\n",
    "df[\"prior\"] = Fraction(1, 2), Fraction(1, 4), Fraction(1, 4)\n",
    "df[\"likelihood\"] = Fraction(1, 2), 1, 0\n",
    "update(df)\n",
    "df"
   ]
  },
  {
   "cell_type": "code",
   "execution_count": null,
   "id": "f750ff14-0103-4a7e-ac28-e2f94122c3f0",
   "metadata": {},
   "outputs": [],
   "source": []
  }
 ],
 "metadata": {
  "kernelspec": {
   "display_name": "Python 3 (ipykernel)",
   "language": "python",
   "name": "python3"
  },
  "language_info": {
   "codemirror_mode": {
    "name": "ipython",
    "version": 3
   },
   "file_extension": ".py",
   "mimetype": "text/x-python",
   "name": "python",
   "nbconvert_exporter": "python",
   "pygments_lexer": "ipython3",
   "version": "3.10.3"
  }
 },
 "nbformat": 4,
 "nbformat_minor": 5
}
