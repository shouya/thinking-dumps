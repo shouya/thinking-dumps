{
 "cells": [
  {
   "cell_type": "code",
   "execution_count": null,
   "id": "4c2803c6-d930-45f0-a53c-b8562bb48fa8",
   "metadata": {},
   "outputs": [],
   "source": [
    "# Snow problem: The author suspects it snows less nowadays comparing to decades ago.\n",
    "# Then he pulled out the snow data and run a regression on it. Then he used bayesian\n",
    "# method on a three-parameter model (intercept, slope, sigma) and verified the obvious trend that\n",
    "# it snows more than fewer.\n",
    "#\n",
    "# The biggest insight here is the nature of the assumption of of regression:\n",
    "# the data is a time series of:\n",
    "#\n",
    "# 1. a linear function\n",
    "# 2. a random value drawn from a distribution with mean at 0\n",
    "#\n",
    "# Since there is nothing new here I'm not going to reproduce the result here."
   ]
  },
  {
   "cell_type": "code",
   "execution_count": null,
   "id": "10817f50-6d70-4c5f-b116-63edc8a32f54",
   "metadata": {},
   "outputs": [],
   "source": [
    "# Marathon record problem: The hypothesis the speed of marathon records follow a straight line.\n",
    "# It follows the same line of reasoning, also nothing new here, so I'm skipping it.\n",
    "#\n",
    "# Note that I think the graph of a world record is by its nature biased, because there is no way\n",
    "# for a data point to go lower than previous data point. The random distribution part has to be\n",
    "# skewed. So it's probably not a good idea to approximate it with a normal distribution\n",
    "# which is symmetrical."
   ]
  }
 ],
 "metadata": {
  "kernelspec": {
   "display_name": "Python 3 (ipykernel)",
   "language": "python",
   "name": "python3"
  },
  "language_info": {
   "codemirror_mode": {
    "name": "ipython",
    "version": 3
   },
   "file_extension": ".py",
   "mimetype": "text/x-python",
   "name": "python",
   "nbconvert_exporter": "python",
   "pygments_lexer": "ipython3",
   "version": "3.10.3"
  }
 },
 "nbformat": 4,
 "nbformat_minor": 5
}
