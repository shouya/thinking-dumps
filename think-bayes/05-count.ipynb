{
 "cells": [
  {
   "cell_type": "code",
   "execution_count": 26,
   "id": "edde50a0-0fa5-48ef-bbf0-ae2e75a1ce08",
   "metadata": {},
   "outputs": [],
   "source": [
    "import numpy as np\n",
    "from empiricaldist import Pmf\n",
    "import pandas as pd\n",
    "from scipy.stats import norm, binom"
   ]
  },
  {
   "cell_type": "code",
   "execution_count": 3,
   "id": "ad56d83a-c044-40e1-8b7a-a79e9e299c17",
   "metadata": {},
   "outputs": [
    {
     "data": {
      "text/plain": [
       "333.18362350273196"
      ]
     },
     "execution_count": 3,
     "metadata": {},
     "output_type": "execute_result"
    }
   ],
   "source": [
    "# estimate the number of locomotive\n",
    "def estimate_count(prior, data):\n",
    "    hypos = prior.qs\n",
    "    posterior = prior.copy()\n",
    "    for x in data:\n",
    "        likelihood = 1.0 / hypos\n",
    "        # impossible for count to be less than the data\n",
    "        likelihood[hypos < x] = 0\n",
    "        posterior *= likelihood\n",
    "    posterior.normalize()\n",
    "    return posterior.mean()\n",
    "\n",
    "# attempt 1: uniform prior\n",
    "prior = Pmf(1, np.arange(1, 1000))\n",
    "estimate_count(prior, [60])"
   ]
  },
  {
   "cell_type": "code",
   "execution_count": 4,
   "id": "fec1d3a9-3652-4489-ade3-a4e277d27dec",
   "metadata": {},
   "outputs": [
    {
     "data": {
      "text/plain": [
       "(206.80387729525884, 333.18362350273196, 551.973048566268)"
      ]
     },
     "execution_count": 4,
     "metadata": {},
     "output_type": "execute_result"
    }
   ],
   "source": [
    "# show it's sensitive to prior\n",
    "(estimate_count(Pmf(1, np.arange(1, 500)), [60]),\n",
    " estimate_count(Pmf(1, np.arange(1, 1000)), [60]),\n",
    " estimate_count(Pmf(1, np.arange(1, 2000)), [60]))"
   ]
  },
  {
   "cell_type": "code",
   "execution_count": 5,
   "id": "117ab772-dbb3-4a14-8437-3c71955e820f",
   "metadata": {},
   "outputs": [
    {
     "data": {
      "text/plain": [
       "(151.80348606277954, 164.29208953758175, 171.33451161537945)"
      ]
     },
     "execution_count": 5,
     "metadata": {},
     "output_type": "execute_result"
    }
   ],
   "source": [
    "# solution 1: collect more data\n",
    "(estimate_count(Pmf(1, np.arange(1, 500)), [60, 90, 30]),\n",
    " estimate_count(Pmf(1, np.arange(1, 1000)), [60, 90, 30]),\n",
    " estimate_count(Pmf(1, np.arange(1, 2000)), [60, 90, 30]))"
   ]
  },
  {
   "cell_type": "code",
   "execution_count": 21,
   "id": "99164244-af1e-45df-8399-83165de30c1b",
   "metadata": {},
   "outputs": [
    {
     "data": {
      "text/plain": [
       "<Axes: >"
      ]
     },
     "execution_count": 21,
     "metadata": {},
     "output_type": "execute_result"
    },
    {
     "data": {
      "image/png": "[encoded data removed]",
      "text/plain": [
       "<Figure size 640x480 with 1 Axes>"
      ]
     },
     "metadata": {},
     "output_type": "display_data"
    }
   ],
   "source": [
    "# solution 2: choose a better prior (power law)\n",
    "def power_law_prior(n, alpha=0.01):\n",
    "    ps = np.exp(-np.arange(1,n) * alpha)\n",
    "    prior = Pmf(ps, np.arange(1, n))\n",
    "    prior.normalize()\n",
    "    return prior\n",
    "\n",
    "power_law_prior(1000).plot()"
   ]
  },
  {
   "cell_type": "code",
   "execution_count": 22,
   "id": "d89dff16-a3f5-4482-8b20-ca2a202b7541",
   "metadata": {},
   "outputs": [
    {
     "data": {
      "text/plain": [
       "(118.99670225109685, 120.16378989959166, 120.17263635321657)"
      ]
     },
     "execution_count": 22,
     "metadata": {},
     "output_type": "execute_result"
    }
   ],
   "source": [
    "(estimate_count(power_law_prior(500), [60]),\n",
    " estimate_count(power_law_prior(1000), [60]),\n",
    " estimate_count(power_law_prior(2000), [60]))"
   ]
  },
  {
   "cell_type": "code",
   "execution_count": 23,
   "id": "a8269b9b-b612-4ec0-8f78-41948bd7871b",
   "metadata": {},
   "outputs": [
    {
     "data": {
      "text/plain": [
       "(275.56598764673805, 120.16378989959166, 68.34111360559169)"
      ]
     },
     "execution_count": 23,
     "metadata": {},
     "output_type": "execute_result"
    }
   ],
   "source": [
    "(estimate_count(power_law_prior(1000, 0.001), [60]),\n",
    " estimate_count(power_law_prior(1000, 0.01), [60]),\n",
    " estimate_count(power_law_prior(1000, 0.1), [60]))"
   ]
  },
  {
   "cell_type": "code",
   "execution_count": null,
   "id": "7300498d-298e-471c-9d0d-457a49b4af48",
   "metadata": {},
   "outputs": [],
   "source": [
    "# but it's still sensitive to the choice of alpha."
   ]
  },
  {
   "cell_type": "code",
   "execution_count": 24,
   "id": "4b5d9082-c80c-49ba-a661-88fd6f1cb1bf",
   "metadata": {},
   "outputs": [
    {
     "data": {
      "text/plain": [
       "array([70.])"
      ]
     },
     "execution_count": 24,
     "metadata": {},
     "output_type": "execute_result"
    }
   ],
   "source": [
    "power = power_law_prior(1000)\n",
    "power.quantile([0.5]) # 50% percentile"
   ]
  },
  {
   "cell_type": "code",
   "execution_count": 25,
   "id": "6ec7b0fe-3596-4818-af61-7c3b131ff03b",
   "metadata": {},
   "outputs": [
    {
     "data": {
      "text/plain": [
       "array([  6., 300.])"
      ]
     },
     "execution_count": 25,
     "metadata": {},
     "output_type": "execute_result"
    }
   ],
   "source": [
    "power.credible_interval(0.9)"
   ]
  },
  {
   "cell_type": "code",
   "execution_count": 32,
   "id": "c35472fd-0527-4d8d-a6a3-8528568987ee",
   "metadata": {},
   "outputs": [
    {
     "name": "stdout",
     "output_type": "stream",
     "text": [
      "516.0237221673526\n",
      "463.52652785187956\n",
      "538.6191905336282\n",
      "568.1488246614252\n",
      "715.2883347882264\n"
     ]
    }
   ],
   "source": [
    "# exercise 1: estimate number of people in a hall\n",
    "def estimate_people_in_a_hall(prior, counts):\n",
    "    hypos = prior.qs\n",
    "    posterior = prior.copy()\n",
    "    n_days = 365\n",
    "    for x in counts:\n",
    "        likelihood = binom.pmf(x, hypos, 1 / n_days)\n",
    "        posterior *= likelihood\n",
    "        n_days -= 1\n",
    "    posterior.normalize()\n",
    "    return posterior.mean()\n",
    "\n",
    "print(estimate_people_in_a_hall(Pmf(1, np.arange(200, 2000)), [2, 1, 0]))\n",
    "\n",
    "# see if it's sensitive to prior\n",
    "print(estimate_people_in_a_hall(Pmf(1, np.arange(100, 1000)), [2, 1, 0]))\n",
    "print(estimate_people_in_a_hall(Pmf(1, np.arange(300, 1000)), [2, 1, 0]))\n",
    "print(estimate_people_in_a_hall(Pmf(1, np.arange(300, 5000)), [2, 1, 0]))\n",
    "print(estimate_people_in_a_hall(Pmf(1, np.arange(500, 5000)), [2, 1, 0]))"
   ]
  },
  {
   "cell_type": "code",
   "execution_count": 33,
   "id": "8c674f7d-a96c-4855-a456-83bde60fe11e",
   "metadata": {},
   "outputs": [
    {
     "data": {
      "text/html": [
       "<div>\n",
       "<style scoped>\n",
       "    .dataframe tbody tr th:only-of-type {\n",
       "        vertical-align: middle;\n",
       "    }\n",
       "\n",
       "    .dataframe tbody tr th {\n",
       "        vertical-align: top;\n",
       "    }\n",
       "\n",
       "    .dataframe thead th {\n",
       "        text-align: right;\n",
       "    }\n",
       "</style>\n",
       "<table border=\"1\" class=\"dataframe\">\n",
       "  <thead>\n",
       "    <tr style=\"text-align: right;\">\n",
       "      <th></th>\n",
       "      <th>probs</th>\n",
       "    </tr>\n",
       "  </thead>\n",
       "  <tbody>\n",
       "    <tr>\n",
       "      <th>0</th>\n",
       "      <td>10</td>\n",
       "    </tr>\n",
       "  </tbody>\n",
       "</table>\n",
       "</div>"
      ],
      "text/plain": [
       "0    10\n",
       "dtype: int64"
      ]
     },
     "execution_count": 33,
     "metadata": {},
     "output_type": "execute_result"
    }
   ],
   "source": []
  },
  {
   "cell_type": "code",
   "execution_count": 42,
   "id": "86ec1709-9d16-427b-99a4-e76e63420fbb",
   "metadata": {},
   "outputs": [
    {
     "name": "stdout",
     "output_type": "stream",
     "text": [
      "4    0.325156\n",
      "5    0.221973\n",
      "6    0.160571\n",
      "7    0.121341\n",
      "8    0.094837\n",
      "9    0.076122\n",
      "dtype: float64\n",
      "5.667097866874025\n"
     ]
    },
    {
     "data": {
      "image/png": "[encoded data removed]",
      "text/plain": [
       "<Figure size 640x480 with 1 Axes>"
      ]
     },
     "metadata": {},
     "output_type": "display_data"
    }
   ],
   "source": [
    "# estimate rabbit count problem\n",
    "\n",
    "def estimate_rabbit(min_count, max_count, n_taken, n_same):\n",
    "    hypos = np.arange(min_count, max_count)\n",
    "    prior = Pmf(1, hypos)\n",
    "    posterior = prior.copy()\n",
    "    probability_of_seeing_any_one = (1.0 / hypos)\n",
    "    likelihood = binom.pmf(n_same, n_taken, probability_of_seeing_any_one) # this may be wrong?\n",
    "    posterior *= likelihood\n",
    "    posterior.normalize()\n",
    "    return posterior\n",
    "\n",
    "est = estimate_rabbit(4, 10, 3, 2)\n",
    "print(est)\n",
    "est.plot()\n",
    "print(est.mean())"
   ]
  },
  {
   "cell_type": "code",
   "execution_count": 44,
   "id": "31705620-21ba-4f40-9949-ac4d49ffd7a2",
   "metadata": {},
   "outputs": [
    {
     "data": {
      "text/plain": [
       "2.333333333333333"
      ]
     },
     "execution_count": 44,
     "metadata": {},
     "output_type": "execute_result"
    }
   ],
   "source": [
    "# prisoner problem\n",
    "ps = [1/6.0, 2/6.0, 3/6.0] \n",
    "qs = [1, 2, 3]\n",
    "pmf = Pmf(ps, qs)\n",
    "pmf.mean() # average sentence"
   ]
  },
  {
   "cell_type": "code",
   "execution_count": 69,
   "id": "6fddab1b-ad2f-403c-947d-05d48afaa7f9",
   "metadata": {},
   "outputs": [],
   "source": [
    "# US sibling problem\n",
    "hypos = np.arange(0.1, 1.0, 0.01)\n",
    "prior = Pmf(1, hypos)\n",
    "\n",
    "def update_us_sibling(prior, data):\n",
    "    hypos = prior.qs.copy()\n",
    "    posterior = prior.copy()\n",
    "    for group in data:\n",
    "        sib4, sib3, sib2, sib1 = group\n",
    "        likelihood  = 4 * sib4 * hypos\n",
    "        likelihood += 3 * sib3 * hypos\n",
    "        likelihood += 2 * sib2 * hypos\n",
    "        likelihood += 1 * sib1 * hypos\n",
    "        posterior *= likelihood\n",
    "    posterior.normalize()\n",
    "    return posterior\n",
    "\n",
    "posterior = update_us_sibling(prior, [\n",
    "    [40, 25, 24, 11], # '76 data\n",
    "    [13, 23, 43, 21], # '94 data\n",
    "    [14, 24, 41, 22]  # '14 data\n",
    "])"
   ]
  },
  {
   "cell_type": "code",
   "execution_count": 70,
   "id": "5d0863f2-73c2-4087-92c9-784b584eba33",
   "metadata": {},
   "outputs": [
    {
     "name": "stdout",
     "output_type": "stream",
     "text": [
      "0.9899999999999995\n",
      "0.7960327287532178\n"
     ]
    },
    {
     "data": {
      "image/png": "[encoded data removed]",
      "text/plain": [
       "<Figure size 640x480 with 1 Axes>"
      ]
     },
     "metadata": {},
     "output_type": "display_data"
    }
   ],
   "source": [
    "posterior.plot()\n",
    "print(posterior.max_prob())\n",
    "print(posterior.mean())"
   ]
  },
  {
   "cell_type": "code",
   "execution_count": 74,
   "id": "d416d9f3-a276-4e7f-bfa5-de045842663f",
   "metadata": {},
   "outputs": [
    {
     "name": "stdout",
     "output_type": "stream",
     "text": [
      "2\n",
      "2.6982758620689653\n"
     ]
    },
    {
     "data": {
      "image/png": "[encoded data removed]",
      "text/plain": [
       "<Figure size 640x480 with 1 Axes>"
      ]
     },
     "metadata": {},
     "output_type": "display_data"
    }
   ],
   "source": [
    "# the above analysis is plain wrong. The likelihood makes no sense.\n",
    "\n",
    "qs = np.arange(1, 5)\n",
    "ps = np.array([22, 41, 24, 14])\n",
    "prior = Pmf(ps, qs)\n",
    "prior.normalize()\n",
    "\n",
    "def update_us_sibiling(prior):\n",
    "    hypos = prior.qs.copy()\n",
    "    posterior = prior.copy()\n",
    "    likelihood = [1, 2, 3, 4]\n",
    "    posterior *= likelihood\n",
    "    posterior.normalize()\n",
    "    return posterior\n",
    "\n",
    "posterior = update_us_sibiling(prior)\n",
    "posterior.plot()\n",
    "print(posterior.max_prob())\n",
    "print(posterior.mean()) # average number of siblings (including self) if you ask a random person"
   ]
  },
  {
   "cell_type": "code",
   "execution_count": 80,
   "id": "c056b725-d151-47db-86df-1e649c0b7f99",
   "metadata": {},
   "outputs": [
    {
     "data": {
      "text/plain": [
       "0.9051724137931034"
      ]
     },
     "execution_count": 80,
     "metadata": {},
     "output_type": "execute_result"
    }
   ],
   "source": [
    "posterior[posterior.qs > 1.0].sum()"
   ]
  },
  {
   "cell_type": "code",
   "execution_count": 82,
   "id": "43d42568-8929-4ce5-a58f-81f6d36b9d0a",
   "metadata": {},
   "outputs": [
    {
     "data": {
      "text/html": [
       "<div>\n",
       "<style scoped>\n",
       "    .dataframe tbody tr th:only-of-type {\n",
       "        vertical-align: middle;\n",
       "    }\n",
       "\n",
       "    .dataframe tbody tr th {\n",
       "        vertical-align: top;\n",
       "    }\n",
       "\n",
       "    .dataframe thead th {\n",
       "        text-align: right;\n",
       "    }\n",
       "</style>\n",
       "<table border=\"1\" class=\"dataframe\">\n",
       "  <thead>\n",
       "    <tr style=\"text-align: right;\">\n",
       "      <th></th>\n",
       "      <th>probs</th>\n",
       "    </tr>\n",
       "  </thead>\n",
       "  <tbody>\n",
       "    <tr>\n",
       "      <th>200</th>\n",
       "      <td>0.909091</td>\n",
       "    </tr>\n",
       "    <tr>\n",
       "      <th>2000</th>\n",
       "      <td>0.090909</td>\n",
       "    </tr>\n",
       "  </tbody>\n",
       "</table>\n",
       "</div>"
      ],
      "text/plain": [
       "200     0.909091\n",
       "2000    0.090909\n",
       "dtype: float64"
      ]
     },
     "execution_count": 82,
     "metadata": {},
     "output_type": "execute_result"
    }
   ],
   "source": [
    "# dooms day problem\n",
    "qs = [200, 2000]\n",
    "prior = Pmf(1, qs)\n",
    "posterior = prior.copy()\n",
    "likelihood = 108/200, 108/2000\n",
    "posterior *= likelihood\n",
    "posterior.normalize()\n",
    "posterior"
   ]
  },
  {
   "cell_type": "code",
   "execution_count": 83,
   "id": "88ef27d5-ebdb-4be9-a060-1293dc90838a",
   "metadata": {},
   "outputs": [
    {
     "data": {
      "text/plain": [
       "698.5690648567195"
      ]
     },
     "execution_count": 83,
     "metadata": {},
     "output_type": "execute_result"
    }
   ],
   "source": [
    "# so from this analysis we are 90% likely to live in the short-lived civilization\n",
    "# now let's calculate the expected lifespan of human civilization\n",
    "\n",
    "qs = np.arange(140, 2000)\n",
    "prior = Pmf(1, qs)\n",
    "likelihood = 1 / qs\n",
    "posterior = prior * likelihood\n",
    "posterior.normalize()\n",
    "posterior.mean()"
   ]
  },
  {
   "cell_type": "code",
   "execution_count": null,
   "id": "696db974-849f-4349-a394-542475550841",
   "metadata": {},
   "outputs": [],
   "source": [
    "# with an arbitrary prior and a single data point, we get the result that humanity continue till about 700B total births."
   ]
  }
 ],
 "metadata": {
  "kernelspec": {
   "display_name": "Python 3 (ipykernel)",
   "language": "python",
   "name": "python3"
  },
  "language_info": {
   "codemirror_mode": {
    "name": "ipython",
    "version": 3
   },
   "file_extension": ".py",
   "mimetype": "text/x-python",
   "name": "python",
   "nbconvert_exporter": "python",
   "pygments_lexer": "ipython3",
   "version": "3.10.3"
  }
 },
 "nbformat": 4,
 "nbformat_minor": 5
}
